{
    "metadata": {
        "kernelspec": {
            "name": "SQL",
            "display_name": "SQL",
            "language": "sql"
        },
        "language_info": {
            "name": "sql",
            "version": ""
        }
    },
    "nbformat_minor": 2,
    "nbformat": 4,
    "cells": [
        {
            "cell_type": "code",
            "source": [
                "-- Data Duration\r\n",
                "SELECT \r\n",
                "    (SELECT MAX(date) FROM Covid_Deaths) AS Max_Date_Deaths_Table,\r\n",
                "\t(SELECT MIN(date) FROM Covid_Deaths) AS Min_Date_Deaths_Table,\r\n",
                "    (SELECT MAX(date) FROM Covid_Vaccinations) AS Max_Date_Vaccination_Table,\r\n",
                "    (SELECT MIN(date) FROM Covid_Vaccinations) AS Min_Date_Vaccination_Table\r\n",
                "--Findings: dataset contains data Fom January 1, 2020 to April 30, 2021,\r\n",
                ""
            ],
            "metadata": {
                "azdata_cell_guid": "f56381ba-891b-46a3-bf1e-9f0757a22a1c",
                "language": "sql"
            },
            "outputs": [
                {
                    "output_type": "display_data",
                    "data": {
                        "text/html": "(1 row affected)"
                    },
                    "metadata": {}
                },
                {
                    "output_type": "display_data",
                    "data": {
                        "text/html": "Total execution time: 00:00:00.174"
                    },
                    "metadata": {}
                },
                {
                    "output_type": "execute_result",
                    "metadata": {},
                    "execution_count": 1,
                    "data": {
                        "application/vnd.dataresource+json": {
                            "schema": {
                                "fields": [
                                    {
                                        "name": "Max_Date_Deaths_Table"
                                    },
                                    {
                                        "name": "Min_Date_Deaths_Table"
                                    },
                                    {
                                        "name": "Max_Date_Vaccination_Table"
                                    },
                                    {
                                        "name": "Min_Date_Vaccination_Table"
                                    }
                                ]
                            },
                            "data": [
                                {
                                    "Max_Date_Deaths_Table": "2021-04-30 00:00:00.000",
                                    "Min_Date_Deaths_Table": "2020-01-01 00:00:00.000",
                                    "Max_Date_Vaccination_Table": "2021-04-30 00:00:00.000",
                                    "Min_Date_Vaccination_Table": "2020-01-01 00:00:00.000"
                                }
                            ]
                        },
                        "text/html": [
                            "<table>",
                            "<tr><th>Max_Date_Deaths_Table</th><th>Min_Date_Deaths_Table</th><th>Max_Date_Vaccination_Table</th><th>Min_Date_Vaccination_Table</th></tr>",
                            "<tr><td>2021-04-30 00:00:00.000</td><td>2020-01-01 00:00:00.000</td><td>2021-04-30 00:00:00.000</td><td>2020-01-01 00:00:00.000</td></tr>",
                            "</table>"
                        ]
                    }
                }
            ],
            "execution_count": 1
        },
        {
            "cell_type": "code",
            "source": [
                "--1. Total cases, deaths, and vaccinations over time (Monthly)(Globally)\r\n",
                "SELECT \r\n",
                "       FORMAT(D.date, 'yyyy-MM') AS Month,\r\n",
                "       SUM(TRY_CAST(D.total_cases AS FLOAT)) AS Total_Cases,\r\n",
                "\t   SUM(TRY_CAST(D.total_deaths AS FLOAT)) AS Total_Deaths,\r\n",
                "\t   SUM(TRY_CAST(V.total_vaccinations AS FLOAT)) AS Total_Vaccinations\r\n",
                "FROM dbo.Covid_Deaths D\r\n",
                "JOIN dbo.Covid_Vaccinations V\r\n",
                "     ON D.iso_code=V.iso_code\r\n",
                "\tAND D.date=V.date\r\n",
                "WHERE D.location = 'World'  -- Focuses only on global data\r\n",
                "GROUP BY FORMAT(D.date, 'yyyy-MM')\r\n",
                "ORDER BY Month\r\n",
                "--Findings: \r\n",
                "--1. Cases & Deaths Surged in Late 2020 – Rapid increase from October to December 2020 (Cases: 1.2B → 2.3B, Deaths: 34M → 51M).\r\n",
                "--2. Vaccinations Began in December 2020 – Slow start but reached 26B+ doses by April 2021.\r\n",
                "--3. Cases Still Peaked in April 2021 – Despite vaccinations, total cases hit 4.19B, showing infections were still spreading.\r\n",
                "--4. Cases did not drop immediately, peaking in April 2021 despite mass vaccinations.\r\n",
                "--5.Deaths slowed down after vaccinations increased, suggesting some impact but not an instant decline.\r\n",
                ""
            ],
            "metadata": {
                "azdata_cell_guid": "87b47c3b-77c6-4921-acec-f29977bc00f0",
                "language": "sql"
            },
            "outputs": [
                {
                    "output_type": "display_data",
                    "data": {
                        "text/html": "Warning: Null value is eliminated by an aggregate or other SET operation."
                    },
                    "metadata": {}
                },
                {
                    "output_type": "display_data",
                    "data": {
                        "text/html": "(16 rows affected)"
                    },
                    "metadata": {}
                },
                {
                    "output_type": "display_data",
                    "data": {
                        "text/html": "Total execution time: 00:00:12.997"
                    },
                    "metadata": {}
                },
                {
                    "output_type": "execute_result",
                    "metadata": {},
                    "execution_count": 2,
                    "data": {
                        "application/vnd.dataresource+json": {
                            "schema": {
                                "fields": [
                                    {
                                        "name": "Month"
                                    },
                                    {
                                        "name": "Total_Cases"
                                    },
                                    {
                                        "name": "Total_Deaths"
                                    },
                                    {
                                        "name": "Total_Vaccinations"
                                    }
                                ]
                            },
                            "data": [
                                {
                                    "Month": "2020-01",
                                    "Total_Cases": "38538",
                                    "Total_Deaths": "889",
                                    "Total_Vaccinations": "NULL"
                                },
                                {
                                    "Month": "2020-02",
                                    "Total_Cases": "1672032",
                                    "Total_Deaths": "46910",
                                    "Total_Vaccinations": "NULL"
                                },
                                {
                                    "Month": "2020-03",
                                    "Total_Cases": "9057318",
                                    "Total_Deaths": "399150",
                                    "Total_Vaccinations": "NULL"
                                },
                                {
                                    "Month": "2020-04",
                                    "Total_Cases": "63570406",
                                    "Total_Deaths": "4361073",
                                    "Total_Vaccinations": "NULL"
                                },
                                {
                                    "Month": "2020-05",
                                    "Total_Cases": "145211078",
                                    "Total_Deaths": "9684444",
                                    "Total_Vaccinations": "NULL"
                                },
                                {
                                    "Month": "2020-06",
                                    "Total_Cases": "246660148",
                                    "Total_Deaths": "13297463",
                                    "Total_Vaccinations": "NULL"
                                },
                                {
                                    "Month": "2020-07",
                                    "Total_Cases": "431779916",
                                    "Total_Deaths": "18283969",
                                    "Total_Vaccinations": "NULL"
                                },
                                {
                                    "Month": "2020-08",
                                    "Total_Cases": "671687811",
                                    "Total_Deaths": "23814819",
                                    "Total_Vaccinations": "NULL"
                                },
                                {
                                    "Month": "2020-09",
                                    "Total_Cases": "894819761",
                                    "Total_Deaths": "28127317",
                                    "Total_Vaccinations": "NULL"
                                },
                                {
                                    "Month": "2020-10",
                                    "Total_Cases": "1229233464",
                                    "Total_Deaths": "34293432",
                                    "Total_Vaccinations": "NULL"
                                },
                                {
                                    "Month": "2020-11",
                                    "Total_Cases": "1649653920",
                                    "Total_Deaths": "39950452",
                                    "Total_Vaccinations": "NULL"
                                },
                                {
                                    "Month": "2020-12",
                                    "Total_Cases": "2295680926",
                                    "Total_Deaths": "51259581",
                                    "Total_Vaccinations": "54620410"
                                },
                                {
                                    "Month": "2021-01",
                                    "Total_Cases": "2916265667",
                                    "Total_Deaths": "62904167",
                                    "Total_Vaccinations": "1409722879"
                                },
                                {
                                    "Month": "2021-02",
                                    "Total_Cases": "3052605495",
                                    "Total_Deaths": "67272084",
                                    "Total_Vaccinations": "4896221948"
                                },
                                {
                                    "Month": "2021-03",
                                    "Total_Cases": "3755247451",
                                    "Total_Deaths": "82938337",
                                    "Total_Vaccinations": "12629074909"
                                },
                                {
                                    "Month": "2021-04",
                                    "Total_Cases": "4193884657",
                                    "Total_Deaths": "89815760",
                                    "Total_Vaccinations": "26080744876"
                                }
                            ]
                        },
                        "text/html": [
                            "<table>",
                            "<tr><th>Month</th><th>Total_Cases</th><th>Total_Deaths</th><th>Total_Vaccinations</th></tr>",
                            "<tr><td>2020-01</td><td>38538</td><td>889</td><td>NULL</td></tr>",
                            "<tr><td>2020-02</td><td>1672032</td><td>46910</td><td>NULL</td></tr>",
                            "<tr><td>2020-03</td><td>9057318</td><td>399150</td><td>NULL</td></tr>",
                            "<tr><td>2020-04</td><td>63570406</td><td>4361073</td><td>NULL</td></tr>",
                            "<tr><td>2020-05</td><td>145211078</td><td>9684444</td><td>NULL</td></tr>",
                            "<tr><td>2020-06</td><td>246660148</td><td>13297463</td><td>NULL</td></tr>",
                            "<tr><td>2020-07</td><td>431779916</td><td>18283969</td><td>NULL</td></tr>",
                            "<tr><td>2020-08</td><td>671687811</td><td>23814819</td><td>NULL</td></tr>",
                            "<tr><td>2020-09</td><td>894819761</td><td>28127317</td><td>NULL</td></tr>",
                            "<tr><td>2020-10</td><td>1229233464</td><td>34293432</td><td>NULL</td></tr>",
                            "<tr><td>2020-11</td><td>1649653920</td><td>39950452</td><td>NULL</td></tr>",
                            "<tr><td>2020-12</td><td>2295680926</td><td>51259581</td><td>54620410</td></tr>",
                            "<tr><td>2021-01</td><td>2916265667</td><td>62904167</td><td>1409722879</td></tr>",
                            "<tr><td>2021-02</td><td>3052605495</td><td>67272084</td><td>4896221948</td></tr>",
                            "<tr><td>2021-03</td><td>3755247451</td><td>82938337</td><td>12629074909</td></tr>",
                            "<tr><td>2021-04</td><td>4193884657</td><td>89815760</td><td>26080744876</td></tr>",
                            "</table>"
                        ]
                    }
                }
            ],
            "execution_count": 2
        },
        {
            "cell_type": "code",
            "source": [
                "--2. Top 10 Countries with Highest Cases, Deaths, and Vaccinations (Highest to Lowest)\r\n",
                "SELECT TOP 10 D.location,\r\n",
                "       MAX(TRY_CAST(D.total_cases AS FLOAT)) AS Max_Cases,\r\n",
                "\t   MAX(TRY_CAST(D.total_deaths AS FLOAT)) AS Max_Deaths,\r\n",
                "\t   MAX(TRY_CAST(V.total_vaccinations AS FLOAT)) AS Max_Vaccinations\r\n",
                "FROM dbo.Covid_Deaths D\r\n",
                "JOIN dbo.Covid_Vaccinations V\r\n",
                "     ON D.iso_code = V.iso_code\r\n",
                "    AND D.date = V.date\r\n",
                "WHERE D.continent IS NOT NULL -- Excludes continents & world-level data\r\n",
                "GROUP BY D.location\r\n",
                "ORDER BY Max_Cases DESC -- Sorting by highest cases\r\n",
                "--Findings: \r\n",
                "--1. Countries with high cases also had high vaccinations, showing mass immunization efforts.\r\n",
                "--2. Brazil had the highest deaths among non-U.S. countries, indicating severe outbreaks.\r\n",
                "--3. European countries had high vaccinations despite fewer cases than the U.S. and India.\r\n",
                ""
            ],
            "metadata": {
                "azdata_cell_guid": "f5461f82-1468-4168-9d22-5e94c0a44bc1",
                "language": "sql"
            },
            "outputs": [
                {
                    "output_type": "display_data",
                    "data": {
                        "text/html": "Warning: Null value is eliminated by an aggregate or other SET operation."
                    },
                    "metadata": {}
                },
                {
                    "output_type": "display_data",
                    "data": {
                        "text/html": "(10 rows affected)"
                    },
                    "metadata": {}
                },
                {
                    "output_type": "display_data",
                    "data": {
                        "text/html": "Total execution time: 00:00:17.297"
                    },
                    "metadata": {}
                },
                {
                    "output_type": "execute_result",
                    "metadata": {},
                    "execution_count": 3,
                    "data": {
                        "application/vnd.dataresource+json": {
                            "schema": {
                                "fields": [
                                    {
                                        "name": "location"
                                    },
                                    {
                                        "name": "Max_Cases"
                                    },
                                    {
                                        "name": "Max_Deaths"
                                    },
                                    {
                                        "name": "Max_Vaccinations"
                                    }
                                ]
                            },
                            "data": [
                                {
                                    "location": "United States",
                                    "Max_Cases": "32346971",
                                    "Max_Deaths": "576232",
                                    "Max_Vaccinations": "240159677"
                                },
                                {
                                    "location": "India",
                                    "Max_Cases": "19164969",
                                    "Max_Deaths": "211853",
                                    "Max_Vaccinations": "151998107"
                                },
                                {
                                    "location": "Brazil",
                                    "Max_Cases": "14659011",
                                    "Max_Deaths": "403781",
                                    "Max_Vaccinations": "42698862"
                                },
                                {
                                    "location": "France",
                                    "Max_Cases": "5677835",
                                    "Max_Deaths": "104675",
                                    "Max_Vaccinations": "21518866"
                                },
                                {
                                    "location": "Turkey",
                                    "Max_Cases": "4820591",
                                    "Max_Deaths": "40131",
                                    "Max_Vaccinations": "22816891"
                                },
                                {
                                    "location": "Russia",
                                    "Max_Cases": "4750755",
                                    "Max_Deaths": "108290",
                                    "Max_Vaccinations": "19834392"
                                },
                                {
                                    "location": "United Kingdom",
                                    "Max_Cases": "4432246",
                                    "Max_Deaths": "127775",
                                    "Max_Vaccinations": "48748962"
                                },
                                {
                                    "location": "Italy",
                                    "Max_Cases": "4022653",
                                    "Max_Deaths": "120807",
                                    "Max_Vaccinations": "19949067"
                                },
                                {
                                    "location": "Spain",
                                    "Max_Cases": "3524077",
                                    "Max_Deaths": "78216",
                                    "Max_Vaccinations": "16364595"
                                },
                                {
                                    "location": "Germany",
                                    "Max_Cases": "3405365",
                                    "Max_Deaths": "83097",
                                    "Max_Vaccinations": "28774580"
                                }
                            ]
                        },
                        "text/html": [
                            "<table>",
                            "<tr><th>location</th><th>Max_Cases</th><th>Max_Deaths</th><th>Max_Vaccinations</th></tr>",
                            "<tr><td>United States</td><td>32346971</td><td>576232</td><td>240159677</td></tr>",
                            "<tr><td>India</td><td>19164969</td><td>211853</td><td>151998107</td></tr>",
                            "<tr><td>Brazil</td><td>14659011</td><td>403781</td><td>42698862</td></tr>",
                            "<tr><td>France</td><td>5677835</td><td>104675</td><td>21518866</td></tr>",
                            "<tr><td>Turkey</td><td>4820591</td><td>40131</td><td>22816891</td></tr>",
                            "<tr><td>Russia</td><td>4750755</td><td>108290</td><td>19834392</td></tr>",
                            "<tr><td>United Kingdom</td><td>4432246</td><td>127775</td><td>48748962</td></tr>",
                            "<tr><td>Italy</td><td>4022653</td><td>120807</td><td>19949067</td></tr>",
                            "<tr><td>Spain</td><td>3524077</td><td>78216</td><td>16364595</td></tr>",
                            "<tr><td>Germany</td><td>3405365</td><td>83097</td><td>28774580</td></tr>",
                            "</table>"
                        ]
                    }
                }
            ],
            "execution_count": 3
        },
        {
            "cell_type": "code",
            "source": [
                "--3. Top 10 countries with the highest Mortality Rate\r\n",
                "--NULLIF(..., 0) prevents division by zero by returning NULL if a country has 0 total cases.\r\n",
                "SELECT TOP 10 location AS Country,\r\n",
                "       SUM(TRY_CAST(total_deaths AS FLOAT)) \r\n",
                "\t   / NULLIF(SUM(TRY_CAST(total_cases AS FLOAT)), 0) * 100 AS Mortality_Rate\r\n",
                "FROM dbo.Covid_Deaths\r\n",
                "WHERE continent IS NOT NULL  -- Excludes aggregated regions like \"World\"\r\n",
                "GROUP BY location\r\n",
                "ORDER BY Mortality_Rate DESC;\r\n",
                "-- Findings:\r\n",
                "--1. Mortality Rate represents the percentage of people who died after getting infected with COVID-19 in a given country.\r\n",
                "--2. Yemen (25.94%) had the highest mortality rate, meaning about 26 out of every 100 infected people died—likely due to poor healthcare and low testing.\r\n",
                "--3. Mexico (9.35%) had the second-highest rate, possibly due to underreporting of cases.\r\n",
                "--4. Sudan (6.29%) and Syria (6.20%) also showed high mortality, likely due to war-affected healthcare systems.\r\n",
                ""
            ],
            "metadata": {
                "azdata_cell_guid": "1502fb07-1a54-4165-8f7c-50e33e5e365b",
                "language": "sql"
            },
            "outputs": [
                {
                    "output_type": "display_data",
                    "data": {
                        "text/html": "Warning: Null value is eliminated by an aggregate or other SET operation."
                    },
                    "metadata": {}
                },
                {
                    "output_type": "display_data",
                    "data": {
                        "text/html": "(10 rows affected)"
                    },
                    "metadata": {}
                },
                {
                    "output_type": "display_data",
                    "data": {
                        "text/html": "Total execution time: 00:00:00.199"
                    },
                    "metadata": {}
                },
                {
                    "output_type": "execute_result",
                    "metadata": {},
                    "execution_count": 4,
                    "data": {
                        "application/vnd.dataresource+json": {
                            "schema": {
                                "fields": [
                                    {
                                        "name": "Country"
                                    },
                                    {
                                        "name": "Mortality_Rate"
                                    }
                                ]
                            },
                            "data": [
                                {
                                    "Country": "Yemen",
                                    "Mortality_Rate": "25.944440560255423"
                                },
                                {
                                    "Country": "Mexico",
                                    "Mortality_Rate": "9.354697388207853"
                                },
                                {
                                    "Country": "Ecuador",
                                    "Mortality_Rate": "6.306005803439198"
                                },
                                {
                                    "Country": "Sudan",
                                    "Mortality_Rate": "6.29533819898756"
                                },
                                {
                                    "Country": "Syria",
                                    "Mortality_Rate": "6.204207741851854"
                                },
                                {
                                    "Country": "Egypt",
                                    "Mortality_Rate": "5.605203468124468"
                                },
                                {
                                    "Country": "Liberia",
                                    "Mortality_Rate": "5.114233690825743"
                                },
                                {
                                    "Country": "Bolivia",
                                    "Mortality_Rate": "5.0192932922432405"
                                },
                                {
                                    "Country": "China",
                                    "Mortality_Rate": "4.922602656916756"
                                },
                                {
                                    "Country": "Chad",
                                    "Mortality_Rate": "4.915356816947238"
                                }
                            ]
                        },
                        "text/html": [
                            "<table>",
                            "<tr><th>Country</th><th>Mortality_Rate</th></tr>",
                            "<tr><td>Yemen</td><td>25.944440560255423</td></tr>",
                            "<tr><td>Mexico</td><td>9.354697388207853</td></tr>",
                            "<tr><td>Ecuador</td><td>6.306005803439198</td></tr>",
                            "<tr><td>Sudan</td><td>6.29533819898756</td></tr>",
                            "<tr><td>Syria</td><td>6.204207741851854</td></tr>",
                            "<tr><td>Egypt</td><td>5.605203468124468</td></tr>",
                            "<tr><td>Liberia</td><td>5.114233690825743</td></tr>",
                            "<tr><td>Bolivia</td><td>5.0192932922432405</td></tr>",
                            "<tr><td>China</td><td>4.922602656916756</td></tr>",
                            "<tr><td>Chad</td><td>4.915356816947238</td></tr>",
                            "</table>"
                        ]
                    }
                }
            ],
            "execution_count": 4
        },
        {
            "cell_type": "code",
            "source": [
                "-- 4. Country with the highest daily spike cases\r\n",
                "SELECT Top 1 location AS Country, \r\n",
                "       date, \r\n",
                "       MAX(TRY_CAST(new_cases AS FLOAT)) AS Highest_Daily_Cases\r\n",
                "FROM dbo.Covid_Deaths\r\n",
                "WHERE continent IS NOT NULL  -- Excludes aggregated regions like \"World\"\r\n",
                "GROUP BY location, date\r\n",
                "ORDER BY Highest_Daily_Cases DESC;\r\n",
                "--Findings: \r\n",
                "--1. India recorded the highest daily spike in COVID-19 cases on April 30, 2021, with 401,993 new cases.\r\n",
                "--2. This was during India's second wave, driven by the Delta variant and healthcare shortages.\r\n",
                "--3. It marked one of the worst single-day surges globally.\r\n",
                ""
            ],
            "metadata": {
                "azdata_cell_guid": "44f7b236-c68f-4cfb-b4b6-3d7ca7b4b012",
                "language": "sql"
            },
            "outputs": [
                {
                    "output_type": "display_data",
                    "data": {
                        "text/html": "Warning: Null value is eliminated by an aggregate or other SET operation."
                    },
                    "metadata": {}
                },
                {
                    "output_type": "display_data",
                    "data": {
                        "text/html": "(1 row affected)"
                    },
                    "metadata": {}
                },
                {
                    "output_type": "display_data",
                    "data": {
                        "text/html": "Total execution time: 00:00:07.537"
                    },
                    "metadata": {}
                },
                {
                    "output_type": "execute_result",
                    "metadata": {},
                    "execution_count": 5,
                    "data": {
                        "application/vnd.dataresource+json": {
                            "schema": {
                                "fields": [
                                    {
                                        "name": "Country"
                                    },
                                    {
                                        "name": "date"
                                    },
                                    {
                                        "name": "Highest_Daily_Cases"
                                    }
                                ]
                            },
                            "data": [
                                {
                                    "Country": "India",
                                    "date": "2021-04-30 00:00:00.000",
                                    "Highest_Daily_Cases": "401993"
                                }
                            ]
                        },
                        "text/html": [
                            "<table>",
                            "<tr><th>Country</th><th>date</th><th>Highest_Daily_Cases</th></tr>",
                            "<tr><td>India</td><td>2021-04-30 00:00:00.000</td><td>401993</td></tr>",
                            "</table>"
                        ]
                    }
                }
            ],
            "execution_count": 5
        },
        {
            "cell_type": "code",
            "source": [
                "--5. Deadliest Month (Highest Monthly Deaths)\r\n",
                "SELECT FORMAT(D.date, 'yyyy-MM') AS Month,\r\n",
                "       SUM(TRY_CAST(D.new_deaths AS FLOAT)) AS Monthly_Deaths\r\n",
                "FROM dbo.Covid_Deaths D\r\n",
                "WHERE D.new_deaths IS NOT NULL\r\n",
                "GROUP BY FORMAT(D.date, 'yyyy-MM')\r\n",
                "ORDER BY Monthly_Deaths DESC;\r\n",
                "--Findings:\r\n",
                "--1. January 2021 had the highest number of deaths.\r\n",
                "--2. December 2020 & April 2021 were also critical months.\r\n",
                "--3. Early pandemic months (Jan–Mar 2020) had relatively fewer deaths due to limited spread initially.\r\n",
                "--4. Vaccination rollout began in early 2021, but high deaths still occurred in early months before immunity developed.\r\n",
                "\r\n",
                ""
            ],
            "metadata": {
                "azdata_cell_guid": "cdb60219-6cda-4dca-a7e6-90bc40be4b95",
                "language": "sql"
            },
            "outputs": [
                {
                    "output_type": "display_data",
                    "data": {
                        "text/html": "(16 rows affected)"
                    },
                    "metadata": {}
                },
                {
                    "output_type": "display_data",
                    "data": {
                        "text/html": "Total execution time: 00:00:00.597"
                    },
                    "metadata": {}
                },
                {
                    "output_type": "execute_result",
                    "metadata": {},
                    "execution_count": 6,
                    "data": {
                        "application/vnd.dataresource+json": {
                            "schema": {
                                "fields": [
                                    {
                                        "name": "Month"
                                    },
                                    {
                                        "name": "Monthly_Deaths"
                                    }
                                ]
                            },
                            "data": [
                                {
                                    "Month": "2021-01",
                                    "Monthly_Deaths": "1333535"
                                },
                                {
                                    "Month": "2021-04",
                                    "Monthly_Deaths": "1164351"
                                },
                                {
                                    "Month": "2020-12",
                                    "Monthly_Deaths": "1163213"
                                },
                                {
                                    "Month": "2021-02",
                                    "Monthly_Deaths": "967050"
                                },
                                {
                                    "Month": "2021-03",
                                    "Monthly_Deaths": "919198"
                                },
                                {
                                    "Month": "2020-11",
                                    "Monthly_Deaths": "917349"
                                },
                                {
                                    "Month": "2020-04",
                                    "Monthly_Deaths": "655044"
                                },
                                {
                                    "Month": "2020-10",
                                    "Monthly_Deaths": "572083"
                                },
                                {
                                    "Month": "2020-08",
                                    "Monthly_Deaths": "530611"
                                },
                                {
                                    "Month": "2020-07",
                                    "Monthly_Deaths": "504983"
                                },
                                {
                                    "Month": "2020-09",
                                    "Monthly_Deaths": "499563"
                                },
                                {
                                    "Month": "2020-05",
                                    "Monthly_Deaths": "434767"
                                },
                                {
                                    "Month": "2020-06",
                                    "Monthly_Deaths": "406209"
                                },
                                {
                                    "Month": "2020-03",
                                    "Monthly_Deaths": "152788"
                                },
                                {
                                    "Month": "2020-02",
                                    "Monthly_Deaths": "8212"
                                },
                                {
                                    "Month": "2020-01",
                                    "Monthly_Deaths": "588"
                                }
                            ]
                        },
                        "text/html": [
                            "<table>",
                            "<tr><th>Month</th><th>Monthly_Deaths</th></tr>",
                            "<tr><td>2021-01</td><td>1333535</td></tr>",
                            "<tr><td>2021-04</td><td>1164351</td></tr>",
                            "<tr><td>2020-12</td><td>1163213</td></tr>",
                            "<tr><td>2021-02</td><td>967050</td></tr>",
                            "<tr><td>2021-03</td><td>919198</td></tr>",
                            "<tr><td>2020-11</td><td>917349</td></tr>",
                            "<tr><td>2020-04</td><td>655044</td></tr>",
                            "<tr><td>2020-10</td><td>572083</td></tr>",
                            "<tr><td>2020-08</td><td>530611</td></tr>",
                            "<tr><td>2020-07</td><td>504983</td></tr>",
                            "<tr><td>2020-09</td><td>499563</td></tr>",
                            "<tr><td>2020-05</td><td>434767</td></tr>",
                            "<tr><td>2020-06</td><td>406209</td></tr>",
                            "<tr><td>2020-03</td><td>152788</td></tr>",
                            "<tr><td>2020-02</td><td>8212</td></tr>",
                            "<tr><td>2020-01</td><td>588</td></tr>",
                            "</table>"
                        ]
                    }
                }
            ],
            "execution_count": 6
        },
        {
            "cell_type": "code",
            "source": [
                "--6. Top 2 Countries by percentage of population vaccinated\r\n",
                "SELECT TOP 2 \r\n",
                "    D.location AS Country,\r\n",
                "    MAX(TRY_CAST(V.people_fully_vaccinated AS FLOAT)) \r\n",
                "    / NULLIF(MAX(TRY_CAST(D.population AS FLOAT)), 0) * 100 AS Vaccination_Percentage\r\n",
                "FROM dbo.Covid_Deaths D\r\n",
                "JOIN dbo.Covid_Vaccinations V \r\n",
                "    ON D.iso_code = V.iso_code \r\n",
                "    AND D.date = V.date\r\n",
                "WHERE D.continent IS NOT NULL -- Exclude aggregated regions like 'World'\r\n",
                "GROUP BY D.location\r\n",
                "ORDER BY Vaccination_Percentage DESC;\r\n",
                "--Findings: Gibraltar leads globally with 97.47% of its population fully vaccinated. Seychelles at 60.16%.\r\n",
                ""
            ],
            "metadata": {
                "azdata_cell_guid": "4b7e0b34-2e63-4ddc-bee6-beed0aa51454",
                "language": "sql"
            },
            "outputs": [
                {
                    "output_type": "display_data",
                    "data": {
                        "text/html": "Warning: Null value is eliminated by an aggregate or other SET operation."
                    },
                    "metadata": {}
                },
                {
                    "output_type": "display_data",
                    "data": {
                        "text/html": "(2 rows affected)"
                    },
                    "metadata": {}
                },
                {
                    "output_type": "display_data",
                    "data": {
                        "text/html": "Total execution time: 00:00:00.178"
                    },
                    "metadata": {}
                },
                {
                    "output_type": "execute_result",
                    "metadata": {},
                    "execution_count": 7,
                    "data": {
                        "application/vnd.dataresource+json": {
                            "schema": {
                                "fields": [
                                    {
                                        "name": "Country"
                                    },
                                    {
                                        "name": "Vaccination_Percentage"
                                    }
                                ]
                            },
                            "data": [
                                {
                                    "Country": "Gibraltar",
                                    "Vaccination_Percentage": "97.4681665726752"
                                },
                                {
                                    "Country": "Seychelles",
                                    "Vaccination_Percentage": "60.158633312995725"
                                }
                            ]
                        },
                        "text/html": [
                            "<table>",
                            "<tr><th>Country</th><th>Vaccination_Percentage</th></tr>",
                            "<tr><td>Gibraltar</td><td>97.4681665726752</td></tr>",
                            "<tr><td>Seychelles</td><td>60.158633312995725</td></tr>",
                            "</table>"
                        ]
                    }
                }
            ],
            "execution_count": 7
        },
        {
            "cell_type": "code",
            "source": [
                "--7. Which continents handled the pandemic better?\r\n",
                "--Mortality Rate: Lower is better.\r\n",
                "--Test Positivity Rate: Lower means better testing & control.\r\n",
                "--Vaccination Coverage: Higher means better prevention.\r\n",
                "---Sorted by Mortality Rate (ASC) since lower death rates indicate better handling.\r\n",
                "SELECT \r\n",
                "    D.continent AS Continent,\r\n",
                "    SUM(TRY_CAST(D.total_deaths AS FLOAT)) / NULLIF(SUM(TRY_CAST(D.total_cases AS FLOAT)), 0) * 100 AS Mortality_Rate,\r\n",
                "    SUM(TRY_CAST(D.total_cases AS FLOAT)) / NULLIF(SUM(TRY_CAST(V.total_tests AS FLOAT)), 0) * 100 AS Test_Positivity_Rate,\r\n",
                "    MAX(TRY_CAST(V.people_fully_vaccinated AS FLOAT)) / NULLIF(MAX(TRY_CAST(D.population AS FLOAT)), 0) * 100 AS Vaccination_Coverage\r\n",
                "FROM dbo.Covid_Deaths D\r\n",
                "JOIN dbo.Covid_Vaccinations V \r\n",
                "    ON D.iso_code = V.iso_code \r\n",
                "    AND D.date = V.date\r\n",
                "WHERE D.continent IS NOT NULL  -- Exclude 'World' and other aggregate regions\r\n",
                "GROUP BY D.continent\r\n",
                "ORDER BY Mortality_Rate ASC;  -- Lower mortality = better handling\r\n",
                "--Findings: \r\n",
                "--1. Oceania handled the pandemic the best (low cases, low mortality).\r\n",
                "--2. South America struggled the most (high mortality, high case rates).\r\n",
                "--3. Asia & Europe managed relatively well with control measures and healthcare support.\r\n",
                ""
            ],
            "metadata": {
                "azdata_cell_guid": "ec6a2ce7-26e8-450a-bfa0-4e470454a21a",
                "language": "sql"
            },
            "outputs": [
                {
                    "output_type": "display_data",
                    "data": {
                        "text/html": "Warning: Null value is eliminated by an aggregate or other SET operation."
                    },
                    "metadata": {}
                },
                {
                    "output_type": "display_data",
                    "data": {
                        "text/html": "(6 rows affected)"
                    },
                    "metadata": {}
                },
                {
                    "output_type": "display_data",
                    "data": {
                        "text/html": "Total execution time: 00:00:00.214"
                    },
                    "metadata": {}
                },
                {
                    "output_type": "execute_result",
                    "metadata": {},
                    "execution_count": 8,
                    "data": {
                        "application/vnd.dataresource+json": {
                            "schema": {
                                "fields": [
                                    {
                                        "name": "Continent"
                                    },
                                    {
                                        "name": "Mortality_Rate"
                                    },
                                    {
                                        "name": "Test_Positivity_Rate"
                                    },
                                    {
                                        "name": "Vaccination_Coverage"
                                    }
                                ]
                            },
                            "data": [
                                {
                                    "Continent": "Asia",
                                    "Mortality_Rate": "1.6608709454864103",
                                    "Test_Positivity_Rate": "6.966958775639201",
                                    "Vaccination_Coverage": "1.8495598753307327"
                                },
                                {
                                    "Continent": "Africa",
                                    "Mortality_Rate": "2.5231021727475595",
                                    "Test_Positivity_Rate": "15.757941877721251",
                                    "Vaccination_Coverage": "2.0667607139428292"
                                },
                                {
                                    "Continent": "Oceania",
                                    "Mortality_Rate": "2.6027177225671996",
                                    "Test_Positivity_Rate": "0.41063571851420516",
                                    "Vaccination_Coverage": "0.2353893337776753"
                                },
                                {
                                    "Continent": "North America",
                                    "Mortality_Rate": "2.6033267623612244",
                                    "Test_Positivity_Rate": "8.136270706271423",
                                    "Vaccination_Coverage": "30.636406965047623"
                                },
                                {
                                    "Continent": "Europe",
                                    "Mortality_Rate": "2.7164670042737837",
                                    "Test_Positivity_Rate": "8.542236674050883",
                                    "Vaccination_Coverage": "9.958494381655985"
                                },
                                {
                                    "Continent": "South America",
                                    "Mortality_Rate": "2.833960681294879",
                                    "Test_Positivity_Rate": "60.08913086247812",
                                    "Vaccination_Coverage": "6.374382608487587"
                                }
                            ]
                        },
                        "text/html": [
                            "<table>",
                            "<tr><th>Continent</th><th>Mortality_Rate</th><th>Test_Positivity_Rate</th><th>Vaccination_Coverage</th></tr>",
                            "<tr><td>Asia</td><td>1.6608709454864103</td><td>6.966958775639201</td><td>1.8495598753307327</td></tr>",
                            "<tr><td>Africa</td><td>2.5231021727475595</td><td>15.757941877721251</td><td>2.0667607139428292</td></tr>",
                            "<tr><td>Oceania</td><td>2.6027177225671996</td><td>0.41063571851420516</td><td>0.2353893337776753</td></tr>",
                            "<tr><td>North America</td><td>2.6033267623612244</td><td>8.136270706271423</td><td>30.636406965047623</td></tr>",
                            "<tr><td>Europe</td><td>2.7164670042737837</td><td>8.542236674050883</td><td>9.958494381655985</td></tr>",
                            "<tr><td>South America</td><td>2.833960681294879</td><td>60.08913086247812</td><td>6.374382608487587</td></tr>",
                            "</table>"
                        ]
                    }
                }
            ],
            "execution_count": 8
        }
    ]
}